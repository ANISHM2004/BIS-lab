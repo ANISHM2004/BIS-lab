{
  "nbformat": 4,
  "nbformat_minor": 0,
  "metadata": {
    "colab": {
      "provenance": [],
      "authorship_tag": "ABX9TyPlcOASY+GwlYXnwyTXGGyb",
      "include_colab_link": true
    },
    "kernelspec": {
      "name": "python3",
      "display_name": "Python 3"
    },
    "language_info": {
      "name": "python"
    }
  },
  "cells": [
    {
      "cell_type": "markdown",
      "metadata": {
        "id": "view-in-github",
        "colab_type": "text"
      },
      "source": [
        "<a href=\"https://colab.research.google.com/github/ANISHM2004/BIS-lab/blob/main/Parallel_Cellular.ipynb\" target=\"_parent\"><img src=\"https://colab.research.google.com/assets/colab-badge.svg\" alt=\"Open In Colab\"/></a>"
      ]
    },
    {
      "cell_type": "code",
      "execution_count": 6,
      "metadata": {
        "colab": {
          "base_uri": "https://localhost:8080/"
        },
        "id": "h89q4WVCkd3N",
        "outputId": "157b0966-593b-45d8-a5c0-3432a1dcedb3"
      },
      "outputs": [
        {
          "output_type": "stream",
          "name": "stdout",
          "text": [
            "[[0 0 0 ... 0 1 0]\n",
            " [0 0 0 ... 1 1 0]\n",
            " [0 0 0 ... 0 1 0]\n",
            " ...\n",
            " [1 1 0 ... 1 0 0]\n",
            " [0 0 0 ... 0 0 0]\n",
            " [0 0 0 ... 0 0 0]]\n",
            "[[0 0 0 ... 1 1 0]\n",
            " [0 0 0 ... 1 1 1]\n",
            " [0 0 0 ... 1 1 0]\n",
            " ...\n",
            " [1 1 1 ... 0 0 1]\n",
            " [0 0 0 ... 0 0 0]\n",
            " [0 0 0 ... 0 0 0]]\n",
            "[[0 0 0 ... 1 0 1]\n",
            " [0 0 0 ... 0 0 1]\n",
            " [0 0 0 ... 1 0 1]\n",
            " ...\n",
            " [1 1 1 ... 0 1 1]\n",
            " [1 1 0 ... 0 0 0]\n",
            " [0 0 0 ... 1 0 0]]\n",
            "[[0 0 0 ... 0 0 0]\n",
            " [1 0 0 ... 0 0 1]\n",
            " [0 0 0 ... 0 1 0]\n",
            " ...\n",
            " [0 0 0 ... 0 1 0]\n",
            " [0 0 0 ... 1 1 0]\n",
            " [1 0 0 ... 1 1 0]]\n",
            "[[1 0 0 ... 1 1 0]\n",
            " [0 0 0 ... 0 0 1]\n",
            " [0 0 0 ... 0 0 1]\n",
            " ...\n",
            " [0 0 0 ... 0 1 0]\n",
            " [0 0 0 ... 0 0 0]\n",
            " [0 0 0 ... 0 1 1]]\n",
            "[[1 0 0 ... 1 0 0]\n",
            " [1 0 0 ... 0 0 1]\n",
            " [0 0 0 ... 0 0 0]\n",
            " ...\n",
            " [0 0 0 ... 0 1 0]\n",
            " [0 0 0 ... 0 1 1]\n",
            " [0 0 0 ... 0 1 1]]\n",
            "[[1 0 0 ... 1 0 0]\n",
            " [1 0 0 ... 0 0 1]\n",
            " [0 0 0 ... 0 0 0]\n",
            " ...\n",
            " [1 0 0 ... 0 0 0]\n",
            " [0 0 0 ... 0 0 0]\n",
            " [1 0 0 ... 0 0 0]]\n",
            "[[1 1 0 ... 1 0 0]\n",
            " [1 0 0 ... 0 0 1]\n",
            " [0 0 0 ... 0 0 0]\n",
            " ...\n",
            " [1 1 0 ... 0 0 0]\n",
            " [0 0 0 ... 1 0 0]\n",
            " [0 0 0 ... 0 0 0]]\n",
            "[[1 1 0 ... 0 0 1]\n",
            " [1 1 0 ... 0 0 1]\n",
            " [0 0 0 ... 0 0 0]\n",
            " ...\n",
            " [0 1 0 ... 1 1 1]\n",
            " [0 0 0 ... 0 0 0]\n",
            " [0 0 0 ... 0 0 0]]\n",
            "[[0 1 0 ... 0 0 1]\n",
            " [0 1 0 ... 0 0 1]\n",
            " [1 0 0 ... 0 0 0]\n",
            " ...\n",
            " [0 0 0 ... 1 1 0]\n",
            " [0 0 0 ... 1 1 0]\n",
            " [1 0 0 ... 0 0 0]]\n"
          ]
        }
      ],
      "source": [
        "import numpy as np\n",
        "from multiprocessing import Pool\n",
        "\n",
        "N = 100\n",
        "iterations = 10\n",
        "\n",
        "grid = np.random.randint(2, size=(N, N))\n",
        "\n",
        "def compute_next_state(args):\n",
        "    grid, x, y = args\n",
        "    neighbors = [\n",
        "        (x-1, y-1), (x-1, y), (x-1, y+1),\n",
        "        (x, y-1), (x, y+1),\n",
        "        (x+1, y-1), (x+1, y), (x+1, y+1),\n",
        "    ]\n",
        "    live_neighbors = sum(grid[i % N, j % N] for i, j in neighbors)\n",
        "    if grid[x, y] == 1:\n",
        "        return 1 if live_neighbors in (2, 3) else 0\n",
        "    else:\n",
        "        return 1 if live_neighbors == 3 else 0\n",
        "\n",
        "def update_grid(grid):\n",
        "    args = [(grid, x, y) for x in range(N) for y in range(N)]\n",
        "    with Pool() as pool:\n",
        "        new_states = pool.map(compute_next_state, args)\n",
        "    return np.array(new_states).reshape((N, N))\n",
        "\n",
        "for _ in range(iterations):\n",
        "    grid = update_grid(grid)\n",
        "    print(grid)\n"
      ]
    }
  ]
}