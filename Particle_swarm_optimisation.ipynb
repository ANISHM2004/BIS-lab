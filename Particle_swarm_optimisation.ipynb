{
  "nbformat": 4,
  "nbformat_minor": 0,
  "metadata": {
    "colab": {
      "provenance": [],
      "authorship_tag": "ABX9TyNhE9EauFyp3vjnpNqPF0da",
      "include_colab_link": true
    },
    "kernelspec": {
      "name": "python3",
      "display_name": "Python 3"
    },
    "language_info": {
      "name": "python"
    }
  },
  "cells": [
    {
      "cell_type": "markdown",
      "metadata": {
        "id": "view-in-github",
        "colab_type": "text"
      },
      "source": [
        "<a href=\"https://colab.research.google.com/github/ANISHM2004/BIS-lab/blob/main/Particle_swarm_optimisation.ipynb\" target=\"_parent\"><img src=\"https://colab.research.google.com/assets/colab-badge.svg\" alt=\"Open In Colab\"/></a>"
      ]
    },
    {
      "cell_type": "code",
      "execution_count": 1,
      "metadata": {
        "colab": {
          "base_uri": "https://localhost:8080/"
        },
        "id": "7BQMv42AjEh2",
        "outputId": "88005089-4a17-4c35-8588-35624c6f303e"
      },
      "outputs": [
        {
          "output_type": "stream",
          "name": "stdout",
          "text": [
            "Best position: [-3.93863511e-09 -2.77932122e-09 -4.46151423e-09 -5.09417792e-09\n",
            "  5.42350012e-09]\n",
            "Best value: 9.850758441733939e-17\n"
          ]
        }
      ],
      "source": [
        "import numpy as np\n",
        "\n",
        "class Particle:\n",
        "    def __init__(self, dim, bounds):\n",
        "        self.position = np.random.uniform(bounds[0], bounds[1], dim)\n",
        "        self.velocity = np.random.uniform(-1, 1, dim)\n",
        "        self.best_position = np.copy(self.position)\n",
        "        self.best_value = float('inf')\n",
        "\n",
        "class PSO:\n",
        "    def __init__(self, func, dim, bounds, n_particles, n_iterations, w, c1, c2):\n",
        "        self.func = func\n",
        "        self.dim = dim\n",
        "        self.bounds = bounds\n",
        "        self.n_particles = n_particles\n",
        "        self.n_iterations = n_iterations\n",
        "        self.w = w\n",
        "        self.c1 = c1\n",
        "        self.c2 = c2\n",
        "        self.particles = [Particle(dim, bounds) for _ in range(n_particles)]\n",
        "        self.global_best_position = None\n",
        "        self.global_best_value = float('inf')\n",
        "\n",
        "    def optimize(self):\n",
        "        for _ in range(self.n_iterations):\n",
        "            for particle in self.particles:\n",
        "                fitness_value = self.func(particle.position)\n",
        "                if fitness_value < particle.best_value:\n",
        "                    particle.best_value = fitness_value\n",
        "                    particle.best_position = np.copy(particle.position)\n",
        "                if fitness_value < self.global_best_value:\n",
        "                    self.global_best_value = fitness_value\n",
        "                    self.global_best_position = np.copy(particle.position)\n",
        "\n",
        "            for particle in self.particles:\n",
        "                inertia = self.w * particle.velocity\n",
        "                cognitive = self.c1 * np.random.random(self.dim) * (particle.best_position - particle.position)\n",
        "                social = self.c2 * np.random.random(self.dim) * (self.global_best_position - particle.position)\n",
        "                particle.velocity = inertia + cognitive + social\n",
        "                particle.position += particle.velocity\n",
        "                particle.position = np.clip(particle.position, self.bounds[0], self.bounds[1])\n",
        "\n",
        "        return self.global_best_position, self.global_best_value\n",
        "\n",
        "if __name__ == \"__main__\":\n",
        "    def sphere_function(x):\n",
        "        return sum(x**2)\n",
        "\n",
        "    dim = 5\n",
        "    bounds = (-10, 10)\n",
        "    pso = PSO(func=sphere_function, dim=dim, bounds=bounds, n_particles=30, n_iterations=100, w=0.5, c1=1.5, c2=1.5)\n",
        "    best_position, best_value = pso.optimize()\n",
        "\n",
        "    print(\"Best position:\", best_position)\n",
        "    print(\"Best value:\", best_value)\n"
      ]
    }
  ]
}