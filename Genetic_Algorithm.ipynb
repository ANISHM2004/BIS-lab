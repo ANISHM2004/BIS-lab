{
  "nbformat": 4,
  "nbformat_minor": 0,
  "metadata": {
    "colab": {
      "provenance": [],
      "authorship_tag": "ABX9TyPgdrfm02RBnquzrbZ5evXT",
      "include_colab_link": true
    },
    "kernelspec": {
      "name": "python3",
      "display_name": "Python 3"
    },
    "language_info": {
      "name": "python"
    }
  },
  "cells": [
    {
      "cell_type": "markdown",
      "metadata": {
        "id": "view-in-github",
        "colab_type": "text"
      },
      "source": [
        "<a href=\"https://colab.research.google.com/github/ANISHM2004/BIS-lab/blob/main/Genetic_Algorithm.ipynb\" target=\"_parent\"><img src=\"https://colab.research.google.com/assets/colab-badge.svg\" alt=\"Open In Colab\"/></a>"
      ]
    },
    {
      "cell_type": "code",
      "execution_count": 1,
      "metadata": {
        "colab": {
          "base_uri": "https://localhost:8080/"
        },
        "id": "QLN2P-hghM-Z",
        "outputId": "bdf50d11-6dbf-4b15-cdad-b09a71e4bd98"
      },
      "outputs": [
        {
          "output_type": "stream",
          "name": "stdout",
          "text": [
            "Generation 0: Best Fitness = 900\n",
            "Generation 1: Best Fitness = 900\n",
            "Generation 2: Best Fitness = 900\n",
            "Generation 3: Best Fitness = 784\n",
            "Generation 4: Best Fitness = 784\n",
            "Generation 5: Best Fitness = 900\n",
            "Generation 6: Best Fitness = 961\n",
            "Generation 7: Best Fitness = 961\n",
            "Generation 8: Best Fitness = 961\n",
            "Generation 9: Best Fitness = 961\n",
            "Generation 10: Best Fitness = 961\n",
            "Generation 11: Best Fitness = 961\n",
            "Generation 12: Best Fitness = 961\n",
            "Generation 13: Best Fitness = 961\n",
            "Generation 14: Best Fitness = 961\n",
            "Generation 15: Best Fitness = 961\n",
            "Generation 16: Best Fitness = 961\n",
            "Generation 17: Best Fitness = 961\n",
            "Generation 18: Best Fitness = 961\n",
            "Generation 19: Best Fitness = 961\n",
            "Best Solution: 31, Fitness: 961\n"
          ]
        }
      ],
      "source": [
        "import random\n",
        "\n",
        "def fitness_function(x):\n",
        "    return x**2\n",
        "\n",
        "def generate_population(size, min_value, max_value):\n",
        "    return [random.randint(min_value, max_value) for _ in range(size)]\n",
        "\n",
        "def select_parents(population, fitness_function):\n",
        "    selected = random.sample(population, 2)\n",
        "    return max(selected, key=fitness_function)\n",
        "\n",
        "def crossover(parent1, parent2):\n",
        "    crossover_point = random.randint(1, len(bin(parent1)[2:]) - 1)\n",
        "    mask = (1 << crossover_point) - 1\n",
        "    offspring1 = (parent1 & ~mask) | (parent2 & mask)\n",
        "    offspring2 = (parent2 & ~mask) | (parent1 & mask)\n",
        "    return offspring1, offspring2\n",
        "\n",
        "def mutate(individual, mutation_rate, max_value):\n",
        "    if random.random() < mutation_rate:\n",
        "        mutation_point = random.randint(0, len(bin(max_value)[2:]) - 1)\n",
        "        individual ^= (1 << mutation_point)\n",
        "    return individual\n",
        "\n",
        "def genetic_algorithm(pop_size, min_value, max_value, generations, mutation_rate):\n",
        "    population = generate_population(pop_size, min_value, max_value)\n",
        "    for generation in range(generations):\n",
        "        population_fitness = [fitness_function(ind) for ind in population]\n",
        "        print(f\"Generation {generation}: Best Fitness = {max(population_fitness)}\")\n",
        "        new_population = []\n",
        "        while len(new_population) < pop_size:\n",
        "            parent1 = select_parents(population, fitness_function)\n",
        "            parent2 = select_parents(population, fitness_function)\n",
        "            offspring1, offspring2 = crossover(parent1, parent2)\n",
        "            offspring1 = mutate(offspring1, mutation_rate, max_value)\n",
        "            offspring2 = mutate(offspring2, mutation_rate, max_value)\n",
        "            new_population.extend([offspring1, offspring2])\n",
        "        population = new_population[:pop_size]\n",
        "    best_individual = max(population, key=fitness_function)\n",
        "    return best_individual, fitness_function(best_individual)\n",
        "\n",
        "POP_SIZE = 10\n",
        "MIN_VALUE = 0\n",
        "MAX_VALUE = 31\n",
        "GENERATIONS = 20\n",
        "MUTATION_RATE = 0.1\n",
        "\n",
        "best_solution, best_fitness = genetic_algorithm(POP_SIZE, MIN_VALUE, MAX_VALUE, GENERATIONS, MUTATION_RATE)\n",
        "print(f\"Best Solution: {best_solution}, Fitness: {best_fitness}\")\n"
      ]
    }
  ]
}