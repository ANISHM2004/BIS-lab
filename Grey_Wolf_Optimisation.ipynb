{
  "nbformat": 4,
  "nbformat_minor": 0,
  "metadata": {
    "colab": {
      "provenance": [],
      "authorship_tag": "ABX9TyNrfG7ke2qdo/E516lDnxeT",
      "include_colab_link": true
    },
    "kernelspec": {
      "name": "python3",
      "display_name": "Python 3"
    },
    "language_info": {
      "name": "python"
    }
  },
  "cells": [
    {
      "cell_type": "markdown",
      "metadata": {
        "id": "view-in-github",
        "colab_type": "text"
      },
      "source": [
        "<a href=\"https://colab.research.google.com/github/ANISHM2004/BIS-lab/blob/main/Grey_Wolf_Optimisation.ipynb\" target=\"_parent\"><img src=\"https://colab.research.google.com/assets/colab-badge.svg\" alt=\"Open In Colab\"/></a>"
      ]
    },
    {
      "cell_type": "code",
      "execution_count": 1,
      "metadata": {
        "colab": {
          "base_uri": "https://localhost:8080/"
        },
        "id": "RJwzvTWFkDXX",
        "outputId": "9507f495-702b-48dc-a4d8-9efe186d7faf"
      },
      "outputs": [
        {
          "output_type": "stream",
          "name": "stdout",
          "text": [
            "Best position: [-1.11447089e-12  3.75569220e-13  1.99147845e-12  9.77368640e-13\n",
            "  3.37053130e-13]\n",
            "Best value: 6.4179383044880895e-24\n"
          ]
        }
      ],
      "source": [
        "import numpy as np\n",
        "\n",
        "class GreyWolfOptimizer:\n",
        "    def __init__(self, func, dim, bounds, n_wolves, n_iterations):\n",
        "        self.func = func\n",
        "        self.dim = dim\n",
        "        self.bounds = bounds\n",
        "        self.n_wolves = n_wolves\n",
        "        self.n_iterations = n_iterations\n",
        "        self.wolves = np.random.uniform(bounds[0], bounds[1], (n_wolves, dim))\n",
        "        self.alpha, self.beta, self.delta = None, None, None\n",
        "\n",
        "    def update_leaders(self):\n",
        "        fitness = np.array([self.func(wolf) for wolf in self.wolves])\n",
        "        sorted_indices = np.argsort(fitness)\n",
        "        self.alpha = self.wolves[sorted_indices[0]]\n",
        "        self.beta = self.wolves[sorted_indices[1]]\n",
        "        self.delta = self.wolves[sorted_indices[2]]\n",
        "\n",
        "    def optimize(self):\n",
        "        for _ in range(self.n_iterations):\n",
        "            self.update_leaders()\n",
        "\n",
        "            for i in range(self.n_wolves):\n",
        "                A1, A2, A3 = [2 * np.random.rand(self.dim) - 1 for _ in range(3)]\n",
        "                C1, C2, C3 = [2 * np.random.rand(self.dim) for _ in range(3)]\n",
        "\n",
        "                D_alpha = abs(C1 * self.alpha - self.wolves[i])\n",
        "                D_beta = abs(C2 * self.beta - self.wolves[i])\n",
        "                D_delta = abs(C3 * self.delta - self.wolves[i])\n",
        "\n",
        "                X1 = self.alpha - A1 * D_alpha\n",
        "                X2 = self.beta - A2 * D_beta\n",
        "                X3 = self.delta - A3 * D_delta\n",
        "\n",
        "                self.wolves[i] = (X1 + X2 + X3) / 3\n",
        "                self.wolves[i] = np.clip(self.wolves[i], self.bounds[0], self.bounds[1])\n",
        "\n",
        "        self.update_leaders()\n",
        "        return self.alpha, self.func(self.alpha)\n",
        "\n",
        "if __name__ == \"__main__\":\n",
        "    def sphere_function(x):\n",
        "        return sum(x**2)\n",
        "\n",
        "    dim = 5\n",
        "    bounds = (-10, 10)\n",
        "    gwo = GreyWolfOptimizer(func=sphere_function, dim=dim, bounds=bounds, n_wolves=30, n_iterations=100)\n",
        "    best_position, best_value = gwo.optimize()\n",
        "\n",
        "    print(\"Best position:\", best_position)\n",
        "    print(\"Best value:\", best_value)\n"
      ]
    }
  ]
}