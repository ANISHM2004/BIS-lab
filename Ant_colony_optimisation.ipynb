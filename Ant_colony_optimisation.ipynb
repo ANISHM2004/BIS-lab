{
  "nbformat": 4,
  "nbformat_minor": 0,
  "metadata": {
    "colab": {
      "provenance": [],
      "authorship_tag": "ABX9TyPHdaeUeatgRDuFbzF45AWi",
      "include_colab_link": true
    },
    "kernelspec": {
      "name": "python3",
      "display_name": "Python 3"
    },
    "language_info": {
      "name": "python"
    }
  },
  "cells": [
    {
      "cell_type": "markdown",
      "metadata": {
        "id": "view-in-github",
        "colab_type": "text"
      },
      "source": [
        "<a href=\"https://colab.research.google.com/github/ANISHM2004/BIS-lab/blob/main/Ant_colony_optimisation.ipynb\" target=\"_parent\"><img src=\"https://colab.research.google.com/assets/colab-badge.svg\" alt=\"Open In Colab\"/></a>"
      ]
    },
    {
      "cell_type": "code",
      "execution_count": 1,
      "metadata": {
        "colab": {
          "base_uri": "https://localhost:8080/"
        },
        "id": "UmgDI8DViO-O",
        "outputId": "2115be85-9862-4c42-ee63-0e177a4ca78e"
      },
      "outputs": [
        {
          "output_type": "stream",
          "name": "stdout",
          "text": [
            "Best path: [3, 2, 0, 1, 3]\n",
            "Best path length: 9\n"
          ]
        }
      ],
      "source": [
        "import numpy as np\n",
        "\n",
        "class AntColony:\n",
        "    def __init__(self, distances, n_ants, n_iterations, alpha, beta, evaporation_rate, q):\n",
        "        self.distances = distances\n",
        "        self.pheromones = np.ones(distances.shape)\n",
        "        self.n_ants = n_ants\n",
        "        self.n_iterations = n_iterations\n",
        "        self.alpha = alpha\n",
        "        self.beta = beta\n",
        "        self.evaporation_rate = evaporation_rate\n",
        "        self.q = q\n",
        "        self.num_nodes = distances.shape[0]\n",
        "\n",
        "    def run(self):\n",
        "        best_path = None\n",
        "        best_path_length = float('inf')\n",
        "\n",
        "        for _ in range(self.n_iterations):\n",
        "            all_paths = []\n",
        "            for _ in range(self.n_ants):\n",
        "                path = self.construct_solution()\n",
        "                path_length = self.calculate_path_length(path)\n",
        "                all_paths.append((path, path_length))\n",
        "\n",
        "                if path_length < best_path_length:\n",
        "                    best_path = path\n",
        "                    best_path_length = path_length\n",
        "\n",
        "            self.update_pheromones(all_paths)\n",
        "\n",
        "        return best_path, best_path_length\n",
        "\n",
        "    def construct_solution(self):\n",
        "        path = []\n",
        "        visited = set()\n",
        "        current_node = np.random.randint(0, self.num_nodes)\n",
        "        path.append(current_node)\n",
        "        visited.add(current_node)\n",
        "\n",
        "        while len(visited) < self.num_nodes:\n",
        "            probabilities = self.calculate_transition_probabilities(current_node, visited)\n",
        "            next_node = np.random.choice(range(self.num_nodes), p=probabilities)\n",
        "            path.append(next_node)\n",
        "            visited.add(next_node)\n",
        "            current_node = next_node\n",
        "\n",
        "        path.append(path[0])\n",
        "        return path\n",
        "\n",
        "    def calculate_transition_probabilities(self, current_node, visited):\n",
        "        probabilities = []\n",
        "        for next_node in range(self.num_nodes):\n",
        "            if next_node in visited:\n",
        "                probabilities.append(0)\n",
        "            else:\n",
        "                pheromone = self.pheromones[current_node][next_node] ** self.alpha\n",
        "                heuristic = (1 / self.distances[current_node][next_node]) ** self.beta\n",
        "                probabilities.append(pheromone * heuristic)\n",
        "\n",
        "        probabilities = np.array(probabilities)\n",
        "        return probabilities / probabilities.sum()\n",
        "\n",
        "    def calculate_path_length(self, path):\n",
        "        return sum(self.distances[path[i]][path[i + 1]] for i in range(len(path) - 1))\n",
        "\n",
        "    def update_pheromones(self, all_paths):\n",
        "        self.pheromones *= (1 - self.evaporation_rate)\n",
        "        for path, path_length in all_paths:\n",
        "            for i in range(len(path) - 1):\n",
        "                self.pheromones[path[i]][path[i + 1]] += self.q / path_length\n",
        "\n",
        "if __name__ == \"__main__\":\n",
        "    distances = np.array([\n",
        "        [0, 2, 2, 5],\n",
        "        [2, 0, 3, 4],\n",
        "        [2, 3, 0, 1],\n",
        "        [5, 4, 1, 0]\n",
        "    ])\n",
        "\n",
        "    ant_colony = AntColony(distances, n_ants=10, n_iterations=100, alpha=1, beta=2, evaporation_rate=0.5, q=100)\n",
        "    best_path, best_path_length = ant_colony.run()\n",
        "\n",
        "    print(\"Best path:\", best_path)\n",
        "    print(\"Best path length:\", best_path_length)\n"
      ]
    }
  ]
}