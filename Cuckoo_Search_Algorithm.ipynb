{
  "nbformat": 4,
  "nbformat_minor": 0,
  "metadata": {
    "colab": {
      "provenance": [],
      "authorship_tag": "ABX9TyMXvFk2LoL+V3blLvijgP4g",
      "include_colab_link": true
    },
    "kernelspec": {
      "name": "python3",
      "display_name": "Python 3"
    },
    "language_info": {
      "name": "python"
    }
  },
  "cells": [
    {
      "cell_type": "markdown",
      "metadata": {
        "id": "view-in-github",
        "colab_type": "text"
      },
      "source": [
        "<a href=\"https://colab.research.google.com/github/ANISHM2004/BIS-lab/blob/main/Cuckoo_Search_Algorithm.ipynb\" target=\"_parent\"><img src=\"https://colab.research.google.com/assets/colab-badge.svg\" alt=\"Open In Colab\"/></a>"
      ]
    },
    {
      "cell_type": "code",
      "execution_count": 2,
      "metadata": {
        "colab": {
          "base_uri": "https://localhost:8080/"
        },
        "id": "3eM8sILCjdzE",
        "outputId": "ea7e8288-f0bf-42d7-e491-04f115919e9b"
      },
      "outputs": [
        {
          "output_type": "stream",
          "name": "stdout",
          "text": [
            "Best nest: [-2.16642334 -0.0993142   0.80207955  0.86750495 -0.57255891]\n",
            "Best value: 6.426973561515579\n"
          ]
        }
      ],
      "source": [
        "import numpy as np\n",
        "import math\n",
        "\n",
        "class CuckooSearch:\n",
        "    def __init__(self, func, dim, bounds, n_nests, pa, n_iterations):\n",
        "        self.func = func\n",
        "        self.dim = dim\n",
        "        self.bounds = bounds\n",
        "        self.n_nests = n_nests\n",
        "        self.pa = pa\n",
        "        self.n_iterations = n_iterations\n",
        "        self.nests = np.random.uniform(bounds[0], bounds[1], (n_nests, dim))\n",
        "        self.best_nest = None\n",
        "        self.best_value = float('inf')\n",
        "\n",
        "    def levy_flight(self):\n",
        "        beta = 1.5\n",
        "        sigma = (math.gamma(1 + beta) * np.sin(np.pi * beta / 2) / \\\n",
        "                 (math.gamma((1 + beta) / 2) * beta * 2 ** ((beta - 1) / 2))) ** (1 / beta)\n",
        "        u = np.random.normal(0, sigma, self.dim)\n",
        "        v = np.random.normal(0, 1, self.dim)\n",
        "        step = u / abs(v) ** (1 / beta)\n",
        "        return step\n",
        "\n",
        "    def replace_nests(self):\n",
        "        for i in range(self.n_nests):\n",
        "            if np.random.rand() < self.pa:\n",
        "                self.nests[i] = np.random.uniform(self.bounds[0], self.bounds[1], self.dim)\n",
        "\n",
        "    def optimize(self):\n",
        "        for _ in range(self.n_iterations):\n",
        "            for i in range(self.n_nests):\n",
        "                step = self.levy_flight()\n",
        "                new_nest = self.nests[i] + step * np.random.uniform(-1, 1, self.dim)\n",
        "                new_nest = np.clip(new_nest, self.bounds[0], self.bounds[1])\n",
        "                new_value = self.func(new_nest)\n",
        "                if new_value < self.func(self.nests[i]):\n",
        "                    self.nests[i] = new_nest\n",
        "\n",
        "                if new_value < self.best_value:\n",
        "                    self.best_value = new_value\n",
        "                    self.best_nest = np.copy(new_nest)\n",
        "\n",
        "            self.replace_nests()\n",
        "\n",
        "        return self.best_nest, self.best_value\n",
        "\n",
        "if __name__ == \"__main__\":\n",
        "    def sphere_function(x):\n",
        "        return sum(x**2)\n",
        "\n",
        "    dim = 5\n",
        "    bounds = (-10, 10)\n",
        "    cs = CuckooSearch(func=sphere_function, dim=dim, bounds=bounds, n_nests=25, pa=0.25, n_iterations=100)\n",
        "    best_nest, best_value = cs.optimize()\n",
        "\n",
        "    print(\"Best nest:\", best_nest)\n",
        "    print(\"Best value:\", best_value)\n"
      ]
    }
  ]
}